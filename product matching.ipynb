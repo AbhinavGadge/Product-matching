{
 "cells": [
  {
   "cell_type": "code",
   "execution_count": 13,
   "id": "c83cfe6f",
   "metadata": {},
   "outputs": [],
   "source": [
    "import pandas as pd\n",
    "import numpy as np\n",
    "import matplotlib.pyplot as plt"
   ]
  },
  {
   "cell_type": "code",
   "execution_count": 2,
   "id": "ca63dc21",
   "metadata": {},
   "outputs": [
    {
     "data": {
      "text/html": [
       "<div>\n",
       "<style scoped>\n",
       "    .dataframe tbody tr th:only-of-type {\n",
       "        vertical-align: middle;\n",
       "    }\n",
       "\n",
       "    .dataframe tbody tr th {\n",
       "        vertical-align: top;\n",
       "    }\n",
       "\n",
       "    .dataframe thead th {\n",
       "        text-align: right;\n",
       "    }\n",
       "</style>\n",
       "<table border=\"1\" class=\"dataframe\">\n",
       "  <thead>\n",
       "    <tr style=\"text-align: right;\">\n",
       "      <th></th>\n",
       "      <th>id</th>\n",
       "      <th>product_id</th>\n",
       "      <th>website_id</th>\n",
       "      <th>normalized_leaf_category_id</th>\n",
       "      <th>processed_name</th>\n",
       "      <th>attribute_name</th>\n",
       "      <th>attribute_value</th>\n",
       "      <th>attr_guid</th>\n",
       "      <th>extra_attr</th>\n",
       "      <th>extra_attr_type</th>\n",
       "      <th>converted_attribute_values</th>\n",
       "      <th>created_at</th>\n",
       "      <th>updated_at</th>\n",
       "    </tr>\n",
       "  </thead>\n",
       "  <tbody>\n",
       "    <tr>\n",
       "      <th>0</th>\n",
       "      <td>39236864</td>\n",
       "      <td>45096383</td>\n",
       "      <td>2</td>\n",
       "      <td>19476</td>\n",
       "      <td>specification table 3</td>\n",
       "      <td>specification</td>\n",
       "      <td>ASIN:B097RHW2V9#||#Date First Available:June 2...</td>\n",
       "      <td>2538</td>\n",
       "      <td>1</td>\n",
       "      <td>iksula</td>\n",
       "      <td>NaN</td>\n",
       "      <td>2022-07-19 08:28:30+00:00</td>\n",
       "      <td>2022-07-19 08:28:30+00:00</td>\n",
       "    </tr>\n",
       "    <tr>\n",
       "      <th>1</th>\n",
       "      <td>39260882</td>\n",
       "      <td>45099430</td>\n",
       "      <td>2</td>\n",
       "      <td>19476</td>\n",
       "      <td>specification table 3</td>\n",
       "      <td>specification</td>\n",
       "      <td>Product Dimensions:0.39 x 0.39 x 0.39 inches#|...</td>\n",
       "      <td>2538</td>\n",
       "      <td>1</td>\n",
       "      <td>iksula</td>\n",
       "      <td>NaN</td>\n",
       "      <td>2022-07-19 08:28:30+00:00</td>\n",
       "      <td>2022-07-19 08:28:30+00:00</td>\n",
       "    </tr>\n",
       "    <tr>\n",
       "      <th>2</th>\n",
       "      <td>39815023</td>\n",
       "      <td>45180375</td>\n",
       "      <td>2</td>\n",
       "      <td>19476</td>\n",
       "      <td>specification table 3</td>\n",
       "      <td>specification</td>\n",
       "      <td>ASIN:B07YZ7RT1H#||#Date First Available:Octobe...</td>\n",
       "      <td>2538</td>\n",
       "      <td>1</td>\n",
       "      <td>iksula</td>\n",
       "      <td>NaN</td>\n",
       "      <td>2022-07-19 08:28:30+00:00</td>\n",
       "      <td>2022-07-19 08:28:30+00:00</td>\n",
       "    </tr>\n",
       "    <tr>\n",
       "      <th>3</th>\n",
       "      <td>39847396</td>\n",
       "      <td>45184893</td>\n",
       "      <td>2</td>\n",
       "      <td>19476</td>\n",
       "      <td>specification table 3</td>\n",
       "      <td>specification</td>\n",
       "      <td>ASIN:B09H2TSHN2#||#Best Sellers Rank:#1,052,55...</td>\n",
       "      <td>2538</td>\n",
       "      <td>1</td>\n",
       "      <td>iksula</td>\n",
       "      <td>NaN</td>\n",
       "      <td>2022-07-19 08:28:30+00:00</td>\n",
       "      <td>2022-07-19 08:28:30+00:00</td>\n",
       "    </tr>\n",
       "    <tr>\n",
       "      <th>4</th>\n",
       "      <td>39949196</td>\n",
       "      <td>45199382</td>\n",
       "      <td>2</td>\n",
       "      <td>19476</td>\n",
       "      <td>specification table 3</td>\n",
       "      <td>specification</td>\n",
       "      <td>ASIN:B08GWZH2YJ#||#Best Sellers Rank:#1,720,57...</td>\n",
       "      <td>2538</td>\n",
       "      <td>1</td>\n",
       "      <td>iksula</td>\n",
       "      <td>NaN</td>\n",
       "      <td>2022-07-19 08:28:30+00:00</td>\n",
       "      <td>2022-07-19 08:28:30+00:00</td>\n",
       "    </tr>\n",
       "    <tr>\n",
       "      <th>...</th>\n",
       "      <td>...</td>\n",
       "      <td>...</td>\n",
       "      <td>...</td>\n",
       "      <td>...</td>\n",
       "      <td>...</td>\n",
       "      <td>...</td>\n",
       "      <td>...</td>\n",
       "      <td>...</td>\n",
       "      <td>...</td>\n",
       "      <td>...</td>\n",
       "      <td>...</td>\n",
       "      <td>...</td>\n",
       "      <td>...</td>\n",
       "    </tr>\n",
       "    <tr>\n",
       "      <th>123006</th>\n",
       "      <td>63018697</td>\n",
       "      <td>48112609</td>\n",
       "      <td>2</td>\n",
       "      <td>19476</td>\n",
       "      <td>customer reviews</td>\n",
       "      <td>rating review</td>\n",
       "      <td>4.2 out of 5 stars</td>\n",
       "      <td>1511</td>\n",
       "      <td>1</td>\n",
       "      <td>iksula</td>\n",
       "      <td>NaN</td>\n",
       "      <td>2022-07-19 08:28:30+00:00</td>\n",
       "      <td>2022-07-19 08:28:30+00:00</td>\n",
       "    </tr>\n",
       "    <tr>\n",
       "      <th>123007</th>\n",
       "      <td>64009787</td>\n",
       "      <td>48234876</td>\n",
       "      <td>2</td>\n",
       "      <td>19476</td>\n",
       "      <td>item model number</td>\n",
       "      <td>model number</td>\n",
       "      <td>MS-TREKSADAPT</td>\n",
       "      <td>661</td>\n",
       "      <td>1</td>\n",
       "      <td>iksula</td>\n",
       "      <td>NaN</td>\n",
       "      <td>2022-07-19 08:28:30+00:00</td>\n",
       "      <td>2022-07-19 08:28:30+00:00</td>\n",
       "    </tr>\n",
       "    <tr>\n",
       "      <th>123008</th>\n",
       "      <td>63735530</td>\n",
       "      <td>48200459</td>\n",
       "      <td>2</td>\n",
       "      <td>19544</td>\n",
       "      <td>manufacturer name</td>\n",
       "      <td>manufacturer</td>\n",
       "      <td>TFCFL</td>\n",
       "      <td>619</td>\n",
       "      <td>1</td>\n",
       "      <td>iksula</td>\n",
       "      <td>NaN</td>\n",
       "      <td>2022-07-19 08:28:30+00:00</td>\n",
       "      <td>2022-07-19 08:28:30+00:00</td>\n",
       "    </tr>\n",
       "    <tr>\n",
       "      <th>123009</th>\n",
       "      <td>63736640</td>\n",
       "      <td>48200601</td>\n",
       "      <td>2</td>\n",
       "      <td>19476</td>\n",
       "      <td>manufacturer name</td>\n",
       "      <td>manufacturer</td>\n",
       "      <td>WANGZE</td>\n",
       "      <td>619</td>\n",
       "      <td>1</td>\n",
       "      <td>iksula</td>\n",
       "      <td>NaN</td>\n",
       "      <td>2022-07-19 08:28:30+00:00</td>\n",
       "      <td>2022-07-19 08:28:30+00:00</td>\n",
       "    </tr>\n",
       "    <tr>\n",
       "      <th>123010</th>\n",
       "      <td>63295323</td>\n",
       "      <td>48145640</td>\n",
       "      <td>2</td>\n",
       "      <td>19476</td>\n",
       "      <td>manufacturer warranty</td>\n",
       "      <td>Manufacturer Warranty</td>\n",
       "      <td>3</td>\n",
       "      <td>18a2f6bd-81b5-4c8e-9cff-15ca6824eb5a</td>\n",
       "      <td>0</td>\n",
       "      <td>thd</td>\n",
       "      <td>NaN</td>\n",
       "      <td>2022-07-19 08:28:30+00:00</td>\n",
       "      <td>2022-07-19 08:28:30+00:00</td>\n",
       "    </tr>\n",
       "  </tbody>\n",
       "</table>\n",
       "<p>123011 rows × 13 columns</p>\n",
       "</div>"
      ],
      "text/plain": [
       "              id  product_id  website_id  normalized_leaf_category_id  \\\n",
       "0       39236864    45096383           2                        19476   \n",
       "1       39260882    45099430           2                        19476   \n",
       "2       39815023    45180375           2                        19476   \n",
       "3       39847396    45184893           2                        19476   \n",
       "4       39949196    45199382           2                        19476   \n",
       "...          ...         ...         ...                          ...   \n",
       "123006  63018697    48112609           2                        19476   \n",
       "123007  64009787    48234876           2                        19476   \n",
       "123008  63735530    48200459           2                        19544   \n",
       "123009  63736640    48200601           2                        19476   \n",
       "123010  63295323    48145640           2                        19476   \n",
       "\n",
       "               processed_name         attribute_name  \\\n",
       "0       specification table 3          specification   \n",
       "1       specification table 3          specification   \n",
       "2       specification table 3          specification   \n",
       "3       specification table 3          specification   \n",
       "4       specification table 3          specification   \n",
       "...                       ...                    ...   \n",
       "123006       customer reviews          rating review   \n",
       "123007      item model number           model number   \n",
       "123008      manufacturer name           manufacturer   \n",
       "123009      manufacturer name           manufacturer   \n",
       "123010  manufacturer warranty  Manufacturer Warranty   \n",
       "\n",
       "                                          attribute_value  \\\n",
       "0       ASIN:B097RHW2V9#||#Date First Available:June 2...   \n",
       "1       Product Dimensions:0.39 x 0.39 x 0.39 inches#|...   \n",
       "2       ASIN:B07YZ7RT1H#||#Date First Available:Octobe...   \n",
       "3       ASIN:B09H2TSHN2#||#Best Sellers Rank:#1,052,55...   \n",
       "4       ASIN:B08GWZH2YJ#||#Best Sellers Rank:#1,720,57...   \n",
       "...                                                   ...   \n",
       "123006                                 4.2 out of 5 stars   \n",
       "123007                                      MS-TREKSADAPT   \n",
       "123008                                              TFCFL   \n",
       "123009                                             WANGZE   \n",
       "123010                                                  3   \n",
       "\n",
       "                                   attr_guid  extra_attr extra_attr_type  \\\n",
       "0                                       2538           1          iksula   \n",
       "1                                       2538           1          iksula   \n",
       "2                                       2538           1          iksula   \n",
       "3                                       2538           1          iksula   \n",
       "4                                       2538           1          iksula   \n",
       "...                                      ...         ...             ...   \n",
       "123006                                  1511           1          iksula   \n",
       "123007                                   661           1          iksula   \n",
       "123008                                   619           1          iksula   \n",
       "123009                                   619           1          iksula   \n",
       "123010  18a2f6bd-81b5-4c8e-9cff-15ca6824eb5a           0             thd   \n",
       "\n",
       "       converted_attribute_values                 created_at  \\\n",
       "0                             NaN  2022-07-19 08:28:30+00:00   \n",
       "1                             NaN  2022-07-19 08:28:30+00:00   \n",
       "2                             NaN  2022-07-19 08:28:30+00:00   \n",
       "3                             NaN  2022-07-19 08:28:30+00:00   \n",
       "4                             NaN  2022-07-19 08:28:30+00:00   \n",
       "...                           ...                        ...   \n",
       "123006                        NaN  2022-07-19 08:28:30+00:00   \n",
       "123007                        NaN  2022-07-19 08:28:30+00:00   \n",
       "123008                        NaN  2022-07-19 08:28:30+00:00   \n",
       "123009                        NaN  2022-07-19 08:28:30+00:00   \n",
       "123010                        NaN  2022-07-19 08:28:30+00:00   \n",
       "\n",
       "                       updated_at  \n",
       "0       2022-07-19 08:28:30+00:00  \n",
       "1       2022-07-19 08:28:30+00:00  \n",
       "2       2022-07-19 08:28:30+00:00  \n",
       "3       2022-07-19 08:28:30+00:00  \n",
       "4       2022-07-19 08:28:30+00:00  \n",
       "...                           ...  \n",
       "123006  2022-07-19 08:28:30+00:00  \n",
       "123007  2022-07-19 08:28:30+00:00  \n",
       "123008  2022-07-19 08:28:30+00:00  \n",
       "123009  2022-07-19 08:28:30+00:00  \n",
       "123010  2022-07-19 08:28:30+00:00  \n",
       "\n",
       "[123011 rows x 13 columns]"
      ]
     },
     "execution_count": 2,
     "metadata": {},
     "output_type": "execute_result"
    }
   ],
   "source": [
    "Da=pd.read_csv(\"I:/FLAIRMINDS/Product_matching/attribute-data-category.csv\")\n",
    "Da"
   ]
  },
  {
   "cell_type": "code",
   "execution_count": 7,
   "id": "6976e5a7",
   "metadata": {},
   "outputs": [
    {
     "name": "stdout",
     "output_type": "stream",
     "text": [
      "<class 'pandas.core.frame.DataFrame'>\n",
      "RangeIndex: 123011 entries, 0 to 123010\n",
      "Data columns (total 13 columns):\n",
      " #   Column                       Non-Null Count   Dtype \n",
      "---  ------                       --------------   ----- \n",
      " 0   id                           123011 non-null  int64 \n",
      " 1   product_id                   123011 non-null  int64 \n",
      " 2   website_id                   123011 non-null  int64 \n",
      " 3   normalized_leaf_category_id  123011 non-null  int64 \n",
      " 4   processed_name               123011 non-null  object\n",
      " 5   attribute_name               123011 non-null  object\n",
      " 6   attribute_value              123008 non-null  object\n",
      " 7   attr_guid                    123011 non-null  object\n",
      " 8   extra_attr                   123011 non-null  int64 \n",
      " 9   extra_attr_type              123011 non-null  object\n",
      " 10  converted_attribute_values   200 non-null     object\n",
      " 11  created_at                   123011 non-null  object\n",
      " 12  updated_at                   123011 non-null  object\n",
      "dtypes: int64(5), object(8)\n",
      "memory usage: 12.2+ MB\n"
     ]
    }
   ],
   "source": [
    "Da.info()"
   ]
  },
  {
   "cell_type": "markdown",
   "id": "7e590168",
   "metadata": {},
   "source": [
    "### No. of unique products"
   ]
  },
  {
   "cell_type": "code",
   "execution_count": 9,
   "id": "9f1f5c83",
   "metadata": {},
   "outputs": [
    {
     "data": {
      "text/plain": [
       "4016"
      ]
     },
     "execution_count": 9,
     "metadata": {},
     "output_type": "execute_result"
    }
   ],
   "source": [
    "len(np.unique(Da[\"product_id\"]))"
   ]
  },
  {
   "cell_type": "markdown",
   "id": "9e57f49a",
   "metadata": {},
   "source": [
    "### Occurence of each product in dataset"
   ]
  },
  {
   "cell_type": "code",
   "execution_count": 11,
   "id": "af349c90",
   "metadata": {},
   "outputs": [
    {
     "data": {
      "text/plain": [
       "49281695    740\n",
       "4514917     452\n",
       "21245057    429\n",
       "29511699    364\n",
       "29511777    300\n",
       "           ... \n",
       "14328815      7\n",
       "14328288      7\n",
       "14330810      7\n",
       "14329088      7\n",
       "14328234      7\n",
       "Name: product_id, Length: 4016, dtype: int64"
      ]
     },
     "execution_count": 11,
     "metadata": {},
     "output_type": "execute_result"
    }
   ],
   "source": [
    "Da[\"product_id\"].value_counts()"
   ]
  },
  {
   "cell_type": "code",
   "execution_count": 19,
   "id": "42e995db",
   "metadata": {},
   "outputs": [
    {
     "name": "stdout",
     "output_type": "stream",
     "text": [
      "Maximum number of times a single product is repeated: 740\n",
      "\n"
     ]
    },
    {
     "data": {
      "image/png": "[encoded data removed]",
      "text/plain": [
       "<Figure size 864x432 with 1 Axes>"
      ]
     },
     "metadata": {
      "needs_background": "light"
     },
     "output_type": "display_data"
    }
   ],
   "source": [
    "plt.figure(figsize=(12, 6))\n",
    "\n",
    "plt.hist(Da[\"product_id\"].value_counts(), bins=160)\n",
    "\n",
    "plt.yscale('log', nonpositive='clip')\n",
    "\n",
    "plt.title('Log-Histogram of product appearance counts')\n",
    "\n",
    "plt.xlabel('Number of occurences of product')\n",
    "\n",
    "plt.ylabel('Number of products')\n",
    "\n",
    "print ('Maximum number of times a single product is repeated: {}\\n'.format(max(Da[\"product_id\"].value_counts()))) "
   ]
  },
  {
   "cell_type": "markdown",
   "id": "7da88d07",
   "metadata": {},
   "source": [
    "### No. of unique websites"
   ]
  },
  {
   "cell_type": "code",
   "execution_count": 3,
   "id": "02b951eb",
   "metadata": {},
   "outputs": [
    {
     "data": {
      "text/plain": [
       "array([2, 4], dtype=int64)"
      ]
     },
     "execution_count": 3,
     "metadata": {},
     "output_type": "execute_result"
    }
   ],
   "source": [
    "np.unique(Da[\"website_id\"])"
   ]
  },
  {
   "cell_type": "code",
   "execution_count": 20,
   "id": "49f3387a",
   "metadata": {},
   "outputs": [
    {
     "name": "stdout",
     "output_type": "stream",
     "text": [
      "              id  product_id  website_id  normalized_leaf_category_id  \\\n",
      "0       39236864    45096383           2                        19476   \n",
      "1       39260882    45099430           2                        19476   \n",
      "2       39815023    45180375           2                        19476   \n",
      "3       39847396    45184893           2                        19476   \n",
      "4       39949196    45199382           2                        19476   \n",
      "...          ...         ...         ...                          ...   \n",
      "123006  63018697    48112609           2                        19476   \n",
      "123007  64009787    48234876           2                        19476   \n",
      "123008  63735530    48200459           2                        19544   \n",
      "123009  63736640    48200601           2                        19476   \n",
      "123010  63295323    48145640           2                        19476   \n",
      "\n",
      "               processed_name         attribute_name  \\\n",
      "0       specification table 3          specification   \n",
      "1       specification table 3          specification   \n",
      "2       specification table 3          specification   \n",
      "3       specification table 3          specification   \n",
      "4       specification table 3          specification   \n",
      "...                       ...                    ...   \n",
      "123006       customer reviews          rating review   \n",
      "123007      item model number           model number   \n",
      "123008      manufacturer name           manufacturer   \n",
      "123009      manufacturer name           manufacturer   \n",
      "123010  manufacturer warranty  Manufacturer Warranty   \n",
      "\n",
      "                                          attribute_value  \\\n",
      "0       ASIN:B097RHW2V9#||#Date First Available:June 2...   \n",
      "1       Product Dimensions:0.39 x 0.39 x 0.39 inches#|...   \n",
      "2       ASIN:B07YZ7RT1H#||#Date First Available:Octobe...   \n",
      "3       ASIN:B09H2TSHN2#||#Best Sellers Rank:#1,052,55...   \n",
      "4       ASIN:B08GWZH2YJ#||#Best Sellers Rank:#1,720,57...   \n",
      "...                                                   ...   \n",
      "123006                                 4.2 out of 5 stars   \n",
      "123007                                      MS-TREKSADAPT   \n",
      "123008                                              TFCFL   \n",
      "123009                                             WANGZE   \n",
      "123010                                                  3   \n",
      "\n",
      "                                   attr_guid  extra_attr extra_attr_type  \\\n",
      "0                                       2538           1          iksula   \n",
      "1                                       2538           1          iksula   \n",
      "2                                       2538           1          iksula   \n",
      "3                                       2538           1          iksula   \n",
      "4                                       2538           1          iksula   \n",
      "...                                      ...         ...             ...   \n",
      "123006                                  1511           1          iksula   \n",
      "123007                                   661           1          iksula   \n",
      "123008                                   619           1          iksula   \n",
      "123009                                   619           1          iksula   \n",
      "123010  18a2f6bd-81b5-4c8e-9cff-15ca6824eb5a           0             thd   \n",
      "\n",
      "       converted_attribute_values                 created_at  \\\n",
      "0                             NaN  2022-07-19 08:28:30+00:00   \n",
      "1                             NaN  2022-07-19 08:28:30+00:00   \n",
      "2                             NaN  2022-07-19 08:28:30+00:00   \n",
      "3                             NaN  2022-07-19 08:28:30+00:00   \n",
      "4                             NaN  2022-07-19 08:28:30+00:00   \n",
      "...                           ...                        ...   \n",
      "123006                        NaN  2022-07-19 08:28:30+00:00   \n",
      "123007                        NaN  2022-07-19 08:28:30+00:00   \n",
      "123008                        NaN  2022-07-19 08:28:30+00:00   \n",
      "123009                        NaN  2022-07-19 08:28:30+00:00   \n",
      "123010                        NaN  2022-07-19 08:28:30+00:00   \n",
      "\n",
      "                       updated_at  \n",
      "0       2022-07-19 08:28:30+00:00  \n",
      "1       2022-07-19 08:28:30+00:00  \n",
      "2       2022-07-19 08:28:30+00:00  \n",
      "3       2022-07-19 08:28:30+00:00  \n",
      "4       2022-07-19 08:28:30+00:00  \n",
      "...                           ...  \n",
      "123006  2022-07-19 08:28:30+00:00  \n",
      "123007  2022-07-19 08:28:30+00:00  \n",
      "123008  2022-07-19 08:28:30+00:00  \n",
      "123009  2022-07-19 08:28:30+00:00  \n",
      "123010  2022-07-19 08:28:30+00:00  \n",
      "\n",
      "[122811 rows x 13 columns]\n"
     ]
    }
   ],
   "source": [
    "nan_rows = Da[Da.isnull().any(1)]\n",
    "print (nan_rows)"
   ]
  },
  {
   "cell_type": "code",
   "execution_count": 22,
   "id": "8e67d7d2",
   "metadata": {},
   "outputs": [
    {
     "data": {
      "text/plain": [
       "135"
      ]
     },
     "execution_count": 22,
     "metadata": {},
     "output_type": "execute_result"
    }
   ],
   "source": [
    "len(np.unique(Da[\"normalized_leaf_category_id\"]))"
   ]
  },
  {
   "cell_type": "code",
   "execution_count": 24,
   "id": "dba27644",
   "metadata": {},
   "outputs": [
    {
     "name": "stdout",
     "output_type": "stream",
     "text": [
      "id 123011\n",
      "product_id 4016\n",
      "website_id 2\n",
      "normalized_leaf_category_id 135\n",
      "processed_name 325\n",
      "attribute_name 234\n"
     ]
    },
    {
     "ename": "TypeError",
     "evalue": "'<' not supported between instances of 'str' and 'float'",
     "output_type": "error",
     "traceback": [
      "\u001b[1;31m---------------------------------------------------------------------------\u001b[0m",
      "\u001b[1;31mTypeError\u001b[0m                                 Traceback (most recent call last)",
      "\u001b[1;32m~\\AppData\\Local\\Temp/ipykernel_7936/3038004730.py\u001b[0m in \u001b[0;36m<module>\u001b[1;34m\u001b[0m\n\u001b[0;32m      1\u001b[0m \u001b[1;32mfor\u001b[0m \u001b[0mname\u001b[0m \u001b[1;32min\u001b[0m \u001b[0mDa\u001b[0m\u001b[1;33m.\u001b[0m\u001b[0mcolumns\u001b[0m\u001b[1;33m:\u001b[0m\u001b[1;33m\u001b[0m\u001b[1;33m\u001b[0m\u001b[0m\n\u001b[1;32m----> 2\u001b[1;33m     \u001b[0mprint\u001b[0m\u001b[1;33m(\u001b[0m\u001b[0mname\u001b[0m\u001b[1;33m,\u001b[0m\u001b[0mlen\u001b[0m\u001b[1;33m(\u001b[0m\u001b[0mnp\u001b[0m\u001b[1;33m.\u001b[0m\u001b[0munique\u001b[0m\u001b[1;33m(\u001b[0m\u001b[0mDa\u001b[0m\u001b[1;33m[\u001b[0m\u001b[0mname\u001b[0m\u001b[1;33m]\u001b[0m\u001b[1;33m)\u001b[0m\u001b[1;33m)\u001b[0m\u001b[1;33m)\u001b[0m\u001b[1;33m\u001b[0m\u001b[1;33m\u001b[0m\u001b[0m\n\u001b[0m",
      "\u001b[1;32m<__array_function__ internals>\u001b[0m in \u001b[0;36munique\u001b[1;34m(*args, **kwargs)\u001b[0m\n",
      "\u001b[1;32mC:\\ProgramData\\Anaconda3\\lib\\site-packages\\numpy\\lib\\arraysetops.py\u001b[0m in \u001b[0;36munique\u001b[1;34m(ar, return_index, return_inverse, return_counts, axis)\u001b[0m\n\u001b[0;32m    260\u001b[0m     \u001b[0mar\u001b[0m \u001b[1;33m=\u001b[0m \u001b[0mnp\u001b[0m\u001b[1;33m.\u001b[0m\u001b[0masanyarray\u001b[0m\u001b[1;33m(\u001b[0m\u001b[0mar\u001b[0m\u001b[1;33m)\u001b[0m\u001b[1;33m\u001b[0m\u001b[1;33m\u001b[0m\u001b[0m\n\u001b[0;32m    261\u001b[0m     \u001b[1;32mif\u001b[0m \u001b[0maxis\u001b[0m \u001b[1;32mis\u001b[0m \u001b[1;32mNone\u001b[0m\u001b[1;33m:\u001b[0m\u001b[1;33m\u001b[0m\u001b[1;33m\u001b[0m\u001b[0m\n\u001b[1;32m--> 262\u001b[1;33m         \u001b[0mret\u001b[0m \u001b[1;33m=\u001b[0m \u001b[0m_unique1d\u001b[0m\u001b[1;33m(\u001b[0m\u001b[0mar\u001b[0m\u001b[1;33m,\u001b[0m \u001b[0mreturn_index\u001b[0m\u001b[1;33m,\u001b[0m \u001b[0mreturn_inverse\u001b[0m\u001b[1;33m,\u001b[0m \u001b[0mreturn_counts\u001b[0m\u001b[1;33m)\u001b[0m\u001b[1;33m\u001b[0m\u001b[1;33m\u001b[0m\u001b[0m\n\u001b[0m\u001b[0;32m    263\u001b[0m         \u001b[1;32mreturn\u001b[0m \u001b[0m_unpack_tuple\u001b[0m\u001b[1;33m(\u001b[0m\u001b[0mret\u001b[0m\u001b[1;33m)\u001b[0m\u001b[1;33m\u001b[0m\u001b[1;33m\u001b[0m\u001b[0m\n\u001b[0;32m    264\u001b[0m \u001b[1;33m\u001b[0m\u001b[0m\n",
      "\u001b[1;32mC:\\ProgramData\\Anaconda3\\lib\\site-packages\\numpy\\lib\\arraysetops.py\u001b[0m in \u001b[0;36m_unique1d\u001b[1;34m(ar, return_index, return_inverse, return_counts)\u001b[0m\n\u001b[0;32m    321\u001b[0m         \u001b[0maux\u001b[0m \u001b[1;33m=\u001b[0m \u001b[0mar\u001b[0m\u001b[1;33m[\u001b[0m\u001b[0mperm\u001b[0m\u001b[1;33m]\u001b[0m\u001b[1;33m\u001b[0m\u001b[1;33m\u001b[0m\u001b[0m\n\u001b[0;32m    322\u001b[0m     \u001b[1;32melse\u001b[0m\u001b[1;33m:\u001b[0m\u001b[1;33m\u001b[0m\u001b[1;33m\u001b[0m\u001b[0m\n\u001b[1;32m--> 323\u001b[1;33m         \u001b[0mar\u001b[0m\u001b[1;33m.\u001b[0m\u001b[0msort\u001b[0m\u001b[1;33m(\u001b[0m\u001b[1;33m)\u001b[0m\u001b[1;33m\u001b[0m\u001b[1;33m\u001b[0m\u001b[0m\n\u001b[0m\u001b[0;32m    324\u001b[0m         \u001b[0maux\u001b[0m \u001b[1;33m=\u001b[0m \u001b[0mar\u001b[0m\u001b[1;33m\u001b[0m\u001b[1;33m\u001b[0m\u001b[0m\n\u001b[0;32m    325\u001b[0m     \u001b[0mmask\u001b[0m \u001b[1;33m=\u001b[0m \u001b[0mnp\u001b[0m\u001b[1;33m.\u001b[0m\u001b[0mempty\u001b[0m\u001b[1;33m(\u001b[0m\u001b[0maux\u001b[0m\u001b[1;33m.\u001b[0m\u001b[0mshape\u001b[0m\u001b[1;33m,\u001b[0m \u001b[0mdtype\u001b[0m\u001b[1;33m=\u001b[0m\u001b[0mnp\u001b[0m\u001b[1;33m.\u001b[0m\u001b[0mbool_\u001b[0m\u001b[1;33m)\u001b[0m\u001b[1;33m\u001b[0m\u001b[1;33m\u001b[0m\u001b[0m\n",
      "\u001b[1;31mTypeError\u001b[0m: '<' not supported between instances of 'str' and 'float'"
     ]
    }
   ],
   "source": [
    "for name in Da.columns:\n",
    "    print(name,len(np.unique(Da[name])))"
   ]
  },
  {
   "cell_type": "code",
   "execution_count": 27,
   "id": "f8151eb4",
   "metadata": {},
   "outputs": [
    {
     "ename": "TypeError",
     "evalue": "'<' not supported between instances of 'str' and 'float'",
     "output_type": "error",
     "traceback": [
      "\u001b[1;31m---------------------------------------------------------------------------\u001b[0m",
      "\u001b[1;31mTypeError\u001b[0m                                 Traceback (most recent call last)",
      "\u001b[1;32m~\\AppData\\Local\\Temp/ipykernel_7936/2914508871.py\u001b[0m in \u001b[0;36m<module>\u001b[1;34m\u001b[0m\n\u001b[1;32m----> 1\u001b[1;33m \u001b[0mnp\u001b[0m\u001b[1;33m.\u001b[0m\u001b[0munique\u001b[0m\u001b[1;33m(\u001b[0m\u001b[0mDa\u001b[0m\u001b[1;33m[\u001b[0m\u001b[1;34m\"converted_attribute_values\"\u001b[0m\u001b[1;33m]\u001b[0m\u001b[1;33m)\u001b[0m\u001b[1;33m\u001b[0m\u001b[1;33m\u001b[0m\u001b[0m\n\u001b[0m",
      "\u001b[1;32m<__array_function__ internals>\u001b[0m in \u001b[0;36munique\u001b[1;34m(*args, **kwargs)\u001b[0m\n",
      "\u001b[1;32mC:\\ProgramData\\Anaconda3\\lib\\site-packages\\numpy\\lib\\arraysetops.py\u001b[0m in \u001b[0;36munique\u001b[1;34m(ar, return_index, return_inverse, return_counts, axis)\u001b[0m\n\u001b[0;32m    260\u001b[0m     \u001b[0mar\u001b[0m \u001b[1;33m=\u001b[0m \u001b[0mnp\u001b[0m\u001b[1;33m.\u001b[0m\u001b[0masanyarray\u001b[0m\u001b[1;33m(\u001b[0m\u001b[0mar\u001b[0m\u001b[1;33m)\u001b[0m\u001b[1;33m\u001b[0m\u001b[1;33m\u001b[0m\u001b[0m\n\u001b[0;32m    261\u001b[0m     \u001b[1;32mif\u001b[0m \u001b[0maxis\u001b[0m \u001b[1;32mis\u001b[0m \u001b[1;32mNone\u001b[0m\u001b[1;33m:\u001b[0m\u001b[1;33m\u001b[0m\u001b[1;33m\u001b[0m\u001b[0m\n\u001b[1;32m--> 262\u001b[1;33m         \u001b[0mret\u001b[0m \u001b[1;33m=\u001b[0m \u001b[0m_unique1d\u001b[0m\u001b[1;33m(\u001b[0m\u001b[0mar\u001b[0m\u001b[1;33m,\u001b[0m \u001b[0mreturn_index\u001b[0m\u001b[1;33m,\u001b[0m \u001b[0mreturn_inverse\u001b[0m\u001b[1;33m,\u001b[0m \u001b[0mreturn_counts\u001b[0m\u001b[1;33m)\u001b[0m\u001b[1;33m\u001b[0m\u001b[1;33m\u001b[0m\u001b[0m\n\u001b[0m\u001b[0;32m    263\u001b[0m         \u001b[1;32mreturn\u001b[0m \u001b[0m_unpack_tuple\u001b[0m\u001b[1;33m(\u001b[0m\u001b[0mret\u001b[0m\u001b[1;33m)\u001b[0m\u001b[1;33m\u001b[0m\u001b[1;33m\u001b[0m\u001b[0m\n\u001b[0;32m    264\u001b[0m \u001b[1;33m\u001b[0m\u001b[0m\n",
      "\u001b[1;32mC:\\ProgramData\\Anaconda3\\lib\\site-packages\\numpy\\lib\\arraysetops.py\u001b[0m in \u001b[0;36m_unique1d\u001b[1;34m(ar, return_index, return_inverse, return_counts)\u001b[0m\n\u001b[0;32m    321\u001b[0m         \u001b[0maux\u001b[0m \u001b[1;33m=\u001b[0m \u001b[0mar\u001b[0m\u001b[1;33m[\u001b[0m\u001b[0mperm\u001b[0m\u001b[1;33m]\u001b[0m\u001b[1;33m\u001b[0m\u001b[1;33m\u001b[0m\u001b[0m\n\u001b[0;32m    322\u001b[0m     \u001b[1;32melse\u001b[0m\u001b[1;33m:\u001b[0m\u001b[1;33m\u001b[0m\u001b[1;33m\u001b[0m\u001b[0m\n\u001b[1;32m--> 323\u001b[1;33m         \u001b[0mar\u001b[0m\u001b[1;33m.\u001b[0m\u001b[0msort\u001b[0m\u001b[1;33m(\u001b[0m\u001b[1;33m)\u001b[0m\u001b[1;33m\u001b[0m\u001b[1;33m\u001b[0m\u001b[0m\n\u001b[0m\u001b[0;32m    324\u001b[0m         \u001b[0maux\u001b[0m \u001b[1;33m=\u001b[0m \u001b[0mar\u001b[0m\u001b[1;33m\u001b[0m\u001b[1;33m\u001b[0m\u001b[0m\n\u001b[0;32m    325\u001b[0m     \u001b[0mmask\u001b[0m \u001b[1;33m=\u001b[0m \u001b[0mnp\u001b[0m\u001b[1;33m.\u001b[0m\u001b[0mempty\u001b[0m\u001b[1;33m(\u001b[0m\u001b[0maux\u001b[0m\u001b[1;33m.\u001b[0m\u001b[0mshape\u001b[0m\u001b[1;33m,\u001b[0m \u001b[0mdtype\u001b[0m\u001b[1;33m=\u001b[0m\u001b[0mnp\u001b[0m\u001b[1;33m.\u001b[0m\u001b[0mbool_\u001b[0m\u001b[1;33m)\u001b[0m\u001b[1;33m\u001b[0m\u001b[1;33m\u001b[0m\u001b[0m\n",
      "\u001b[1;31mTypeError\u001b[0m: '<' not supported between instances of 'str' and 'float'"
     ]
    }
   ],
   "source": [
    "np.unique(Da[\"converted_attribute_values\"])"
   ]
  },
  {
   "cell_type": "code",
   "execution_count": null,
   "id": "08ff4ce8",
   "metadata": {},
   "outputs": [],
   "source": []
  },
  {
   "cell_type": "code",
   "execution_count": null,
   "id": "74570588",
   "metadata": {},
   "outputs": [],
   "source": []
  },
  {
   "cell_type": "code",
   "execution_count": null,
   "id": "2aaf8f8e",
   "metadata": {},
   "outputs": [],
   "source": []
  },
  {
   "cell_type": "code",
   "execution_count": null,
   "id": "51fb23f3",
   "metadata": {},
   "outputs": [],
   "source": []
  },
  {
   "cell_type": "code",
   "execution_count": null,
   "id": "abe108f0",
   "metadata": {},
   "outputs": [],
   "source": []
  },
  {
   "cell_type": "code",
   "execution_count": null,
   "id": "b4837845",
   "metadata": {},
   "outputs": [],
   "source": []
  },
  {
   "cell_type": "code",
   "execution_count": 4,
   "id": "df35f500",
   "metadata": {},
   "outputs": [
    {
     "data": {
      "text/html": [
       "<div>\n",
       "<style scoped>\n",
       "    .dataframe tbody tr th:only-of-type {\n",
       "        vertical-align: middle;\n",
       "    }\n",
       "\n",
       "    .dataframe tbody tr th {\n",
       "        vertical-align: top;\n",
       "    }\n",
       "\n",
       "    .dataframe thead th {\n",
       "        text-align: right;\n",
       "    }\n",
       "</style>\n",
       "<table border=\"1\" class=\"dataframe\">\n",
       "  <thead>\n",
       "    <tr style=\"text-align: right;\">\n",
       "      <th></th>\n",
       "      <th>id</th>\n",
       "      <th>product_id</th>\n",
       "      <th>website_id</th>\n",
       "      <th>normalized_leaf_category_id</th>\n",
       "      <th>department_name</th>\n",
       "      <th>iksula_category_identifier</th>\n",
       "      <th>product_url</th>\n",
       "      <th>product_title</th>\n",
       "      <th>model_number</th>\n",
       "      <th>manufacturing_brand</th>\n",
       "    </tr>\n",
       "  </thead>\n",
       "  <tbody>\n",
       "    <tr>\n",
       "      <th>0</th>\n",
       "      <td>1311275</td>\n",
       "      <td>48171894</td>\n",
       "      <td>2</td>\n",
       "      <td>19476</td>\n",
       "      <td>tools</td>\n",
       "      <td>ik_tools_portable air compressors</td>\n",
       "      <td>https://www.amazon.com/dp/B09KQBQLZQ</td>\n",
       "      <td>Multifunctional Air Compressor</td>\n",
       "      <td>NaN</td>\n",
       "      <td>Generic</td>\n",
       "    </tr>\n",
       "    <tr>\n",
       "      <th>1</th>\n",
       "      <td>1310580</td>\n",
       "      <td>43184194</td>\n",
       "      <td>2</td>\n",
       "      <td>19476</td>\n",
       "      <td>tools</td>\n",
       "      <td>ik_tools_portable air compressors</td>\n",
       "      <td>https://www.amazon.com/dp/B06Y3W2676</td>\n",
       "      <td>Beverage Air 312-071B Compressor, 115V, 60 Hz,...</td>\n",
       "      <td>312-071B</td>\n",
       "      <td>Beverage Air</td>\n",
       "    </tr>\n",
       "    <tr>\n",
       "      <th>2</th>\n",
       "      <td>1310903</td>\n",
       "      <td>46036109</td>\n",
       "      <td>2</td>\n",
       "      <td>19476</td>\n",
       "      <td>tools</td>\n",
       "      <td>ik_tools_portable air compressors</td>\n",
       "      <td>https://www.amazon.com/dp/B08NK54DG2</td>\n",
       "      <td>Vbestlife Air Compressor Spray Gun， Airbrush， ...</td>\n",
       "      <td>NaN</td>\n",
       "      <td>Vbestlife</td>\n",
       "    </tr>\n",
       "    <tr>\n",
       "      <th>3</th>\n",
       "      <td>1311137</td>\n",
       "      <td>47687124</td>\n",
       "      <td>2</td>\n",
       "      <td>19476</td>\n",
       "      <td>tools</td>\n",
       "      <td>ik_tools_portable air compressors</td>\n",
       "      <td>https://www.amazon.com/dp/B08FXSQTCB</td>\n",
       "      <td>Ryobi P737D 18-Volt ONE+ Cordless High Pressur...</td>\n",
       "      <td>NaN</td>\n",
       "      <td>RYOBI</td>\n",
       "    </tr>\n",
       "    <tr>\n",
       "      <th>4</th>\n",
       "      <td>1311979</td>\n",
       "      <td>52530864</td>\n",
       "      <td>2</td>\n",
       "      <td>19476</td>\n",
       "      <td>tools</td>\n",
       "      <td>ik_tools_portable air compressors</td>\n",
       "      <td>https://www.amazon.com/dp/B08P5KFNRD</td>\n",
       "      <td>2Pcs Air Compressor Cylinder Head Small 2.5/3P...</td>\n",
       "      <td>NaN</td>\n",
       "      <td>Fafeicy</td>\n",
       "    </tr>\n",
       "    <tr>\n",
       "      <th>...</th>\n",
       "      <td>...</td>\n",
       "      <td>...</td>\n",
       "      <td>...</td>\n",
       "      <td>...</td>\n",
       "      <td>...</td>\n",
       "      <td>...</td>\n",
       "      <td>...</td>\n",
       "      <td>...</td>\n",
       "      <td>...</td>\n",
       "      <td>...</td>\n",
       "    </tr>\n",
       "    <tr>\n",
       "      <th>4022</th>\n",
       "      <td>1311446</td>\n",
       "      <td>48873158</td>\n",
       "      <td>2</td>\n",
       "      <td>19476</td>\n",
       "      <td>tools</td>\n",
       "      <td>ik_tools_portable air compressors</td>\n",
       "      <td>https://www.amazon.com/dp/B01L8Q30SI</td>\n",
       "      <td>Professional Portable Airbrush Black Mini Air ...</td>\n",
       "      <td>‎31CPR010</td>\n",
       "      <td>Generic</td>\n",
       "    </tr>\n",
       "    <tr>\n",
       "      <th>4023</th>\n",
       "      <td>1310830</td>\n",
       "      <td>45490321</td>\n",
       "      <td>2</td>\n",
       "      <td>19476</td>\n",
       "      <td>tools</td>\n",
       "      <td>ik_tools_portable air compressors</td>\n",
       "      <td>https://www.amazon.com/dp/B077XB9745</td>\n",
       "      <td>Update -3 Set Pressure Electric High Pressure ...</td>\n",
       "      <td>NaN</td>\n",
       "      <td>TECHTONGDA</td>\n",
       "    </tr>\n",
       "    <tr>\n",
       "      <th>4024</th>\n",
       "      <td>1311723</td>\n",
       "      <td>49827612</td>\n",
       "      <td>2</td>\n",
       "      <td>19476</td>\n",
       "      <td>tools</td>\n",
       "      <td>ik_tools_portable air compressors</td>\n",
       "      <td>https://www.amazon.com/dp/B09D7HK835</td>\n",
       "      <td>20V Tire Inflator Air Compressor Portable Bund...</td>\n",
       "      <td>NaN</td>\n",
       "      <td>WORKSITE</td>\n",
       "    </tr>\n",
       "    <tr>\n",
       "      <th>4025</th>\n",
       "      <td>1311219</td>\n",
       "      <td>47891808</td>\n",
       "      <td>2</td>\n",
       "      <td>19476</td>\n",
       "      <td>tools</td>\n",
       "      <td>ik_tools_portable air compressors</td>\n",
       "      <td>https://www.amazon.com/dp/B09DCK5H1M</td>\n",
       "      <td>HPDAVV High Pressure Air Compressor Oil-Free 1...</td>\n",
       "      <td>NaN</td>\n",
       "      <td>HPDAVV</td>\n",
       "    </tr>\n",
       "    <tr>\n",
       "      <th>4026</th>\n",
       "      <td>1310681</td>\n",
       "      <td>44161811</td>\n",
       "      <td>2</td>\n",
       "      <td>19476</td>\n",
       "      <td>tools</td>\n",
       "      <td>ik_tools_portable air compressors</td>\n",
       "      <td>https://www.amazon.com/dp/B08DV2JLPH</td>\n",
       "      <td>CNCEST PCP Air Compressor 30MPA High Pressure ...</td>\n",
       "      <td>NaN</td>\n",
       "      <td>CNCEST</td>\n",
       "    </tr>\n",
       "  </tbody>\n",
       "</table>\n",
       "<p>4027 rows × 10 columns</p>\n",
       "</div>"
      ],
      "text/plain": [
       "           id  product_id  website_id  normalized_leaf_category_id  \\\n",
       "0     1311275    48171894           2                        19476   \n",
       "1     1310580    43184194           2                        19476   \n",
       "2     1310903    46036109           2                        19476   \n",
       "3     1311137    47687124           2                        19476   \n",
       "4     1311979    52530864           2                        19476   \n",
       "...       ...         ...         ...                          ...   \n",
       "4022  1311446    48873158           2                        19476   \n",
       "4023  1310830    45490321           2                        19476   \n",
       "4024  1311723    49827612           2                        19476   \n",
       "4025  1311219    47891808           2                        19476   \n",
       "4026  1310681    44161811           2                        19476   \n",
       "\n",
       "     department_name         iksula_category_identifier  \\\n",
       "0              tools  ik_tools_portable air compressors   \n",
       "1              tools  ik_tools_portable air compressors   \n",
       "2              tools  ik_tools_portable air compressors   \n",
       "3              tools  ik_tools_portable air compressors   \n",
       "4              tools  ik_tools_portable air compressors   \n",
       "...              ...                                ...   \n",
       "4022           tools  ik_tools_portable air compressors   \n",
       "4023           tools  ik_tools_portable air compressors   \n",
       "4024           tools  ik_tools_portable air compressors   \n",
       "4025           tools  ik_tools_portable air compressors   \n",
       "4026           tools  ik_tools_portable air compressors   \n",
       "\n",
       "                               product_url  \\\n",
       "0     https://www.amazon.com/dp/B09KQBQLZQ   \n",
       "1     https://www.amazon.com/dp/B06Y3W2676   \n",
       "2     https://www.amazon.com/dp/B08NK54DG2   \n",
       "3     https://www.amazon.com/dp/B08FXSQTCB   \n",
       "4     https://www.amazon.com/dp/B08P5KFNRD   \n",
       "...                                    ...   \n",
       "4022  https://www.amazon.com/dp/B01L8Q30SI   \n",
       "4023  https://www.amazon.com/dp/B077XB9745   \n",
       "4024  https://www.amazon.com/dp/B09D7HK835   \n",
       "4025  https://www.amazon.com/dp/B09DCK5H1M   \n",
       "4026  https://www.amazon.com/dp/B08DV2JLPH   \n",
       "\n",
       "                                          product_title model_number  \\\n",
       "0                        Multifunctional Air Compressor          NaN   \n",
       "1     Beverage Air 312-071B Compressor, 115V, 60 Hz,...     312-071B   \n",
       "2     Vbestlife Air Compressor Spray Gun， Airbrush， ...          NaN   \n",
       "3     Ryobi P737D 18-Volt ONE+ Cordless High Pressur...          NaN   \n",
       "4     2Pcs Air Compressor Cylinder Head Small 2.5/3P...          NaN   \n",
       "...                                                 ...          ...   \n",
       "4022  Professional Portable Airbrush Black Mini Air ...    ‎31CPR010   \n",
       "4023  Update -3 Set Pressure Electric High Pressure ...          NaN   \n",
       "4024  20V Tire Inflator Air Compressor Portable Bund...          NaN   \n",
       "4025  HPDAVV High Pressure Air Compressor Oil-Free 1...          NaN   \n",
       "4026  CNCEST PCP Air Compressor 30MPA High Pressure ...          NaN   \n",
       "\n",
       "     manufacturing_brand  \n",
       "0                Generic  \n",
       "1           Beverage Air  \n",
       "2              Vbestlife  \n",
       "3                  RYOBI  \n",
       "4                Fafeicy  \n",
       "...                  ...  \n",
       "4022             Generic  \n",
       "4023          TECHTONGDA  \n",
       "4024            WORKSITE  \n",
       "4025              HPDAVV  \n",
       "4026              CNCEST  \n",
       "\n",
       "[4027 rows x 10 columns]"
      ]
     },
     "execution_count": 4,
     "metadata": {},
     "output_type": "execute_result"
    }
   ],
   "source": [
    "Dp=pd.read_csv(\"I:/FLAIRMINDS/Product_matching/product-data-category.csv\")\n",
    "Dp"
   ]
  },
  {
   "cell_type": "code",
   "execution_count": 5,
   "id": "adf29120",
   "metadata": {},
   "outputs": [
    {
     "data": {
      "text/html": [
       "<div>\n",
       "<style scoped>\n",
       "    .dataframe tbody tr th:only-of-type {\n",
       "        vertical-align: middle;\n",
       "    }\n",
       "\n",
       "    .dataframe tbody tr th {\n",
       "        vertical-align: top;\n",
       "    }\n",
       "\n",
       "    .dataframe thead th {\n",
       "        text-align: right;\n",
       "    }\n",
       "</style>\n",
       "<table border=\"1\" class=\"dataframe\">\n",
       "  <thead>\n",
       "    <tr style=\"text-align: right;\">\n",
       "      <th></th>\n",
       "      <th>id</th>\n",
       "      <th>product_id</th>\n",
       "      <th>website_id</th>\n",
       "      <th>normalized_leaf_category_id</th>\n",
       "      <th>processed_name</th>\n",
       "      <th>attribute_name</th>\n",
       "      <th>attribute_value</th>\n",
       "      <th>attr_guid</th>\n",
       "      <th>extra_attr</th>\n",
       "      <th>extra_attr_type</th>\n",
       "      <th>converted_attribute_values</th>\n",
       "      <th>created_at</th>\n",
       "      <th>updated_at</th>\n",
       "    </tr>\n",
       "  </thead>\n",
       "  <tbody>\n",
       "    <tr>\n",
       "      <th>54720</th>\n",
       "      <td>61186889</td>\n",
       "      <td>47891808</td>\n",
       "      <td>2</td>\n",
       "      <td>19476</td>\n",
       "      <td>brand</td>\n",
       "      <td>brand</td>\n",
       "      <td>HPDAVV</td>\n",
       "      <td>84</td>\n",
       "      <td>1</td>\n",
       "      <td>iksula</td>\n",
       "      <td>NaN</td>\n",
       "      <td>2022-07-19 08:28:30+00:00</td>\n",
       "      <td>2022-07-19 08:28:30+00:00</td>\n",
       "    </tr>\n",
       "    <tr>\n",
       "      <th>55027</th>\n",
       "      <td>61186869</td>\n",
       "      <td>47891808</td>\n",
       "      <td>2</td>\n",
       "      <td>19476</td>\n",
       "      <td>category url</td>\n",
       "      <td>url</td>\n",
       "      <td>https://www.amazon.com/b?node=9022396011</td>\n",
       "      <td>1580</td>\n",
       "      <td>1</td>\n",
       "      <td>iksula</td>\n",
       "      <td>NaN</td>\n",
       "      <td>2022-07-19 08:28:30+00:00</td>\n",
       "      <td>2022-07-19 08:28:30+00:00</td>\n",
       "    </tr>\n",
       "    <tr>\n",
       "      <th>55113</th>\n",
       "      <td>61186886</td>\n",
       "      <td>47891808</td>\n",
       "      <td>2</td>\n",
       "      <td>19476</td>\n",
       "      <td>horsepower</td>\n",
       "      <td>Horsepower (hp)</td>\n",
       "      <td>2.2 hp</td>\n",
       "      <td>29f17705-76e2-4aeb-9045-1309f537fc1b</td>\n",
       "      <td>0</td>\n",
       "      <td>thd</td>\n",
       "      <td>NaN</td>\n",
       "      <td>2022-07-19 08:28:30+00:00</td>\n",
       "      <td>2022-07-19 08:28:30+00:00</td>\n",
       "    </tr>\n",
       "    <tr>\n",
       "      <th>55343</th>\n",
       "      <td>61186878</td>\n",
       "      <td>47891808</td>\n",
       "      <td>2</td>\n",
       "      <td>19476</td>\n",
       "      <td>shipping_cost</td>\n",
       "      <td>shipping policy</td>\n",
       "      <td>Details</td>\n",
       "      <td>1532</td>\n",
       "      <td>1</td>\n",
       "      <td>iksula</td>\n",
       "      <td>NaN</td>\n",
       "      <td>2022-07-19 08:28:30+00:00</td>\n",
       "      <td>2022-07-19 08:28:30+00:00</td>\n",
       "    </tr>\n",
       "    <tr>\n",
       "      <th>55364</th>\n",
       "      <td>61186891</td>\n",
       "      <td>47891808</td>\n",
       "      <td>2</td>\n",
       "      <td>19476</td>\n",
       "      <td>asin</td>\n",
       "      <td>asin</td>\n",
       "      <td>B09DCK5H1M</td>\n",
       "      <td>1162</td>\n",
       "      <td>1</td>\n",
       "      <td>iksula</td>\n",
       "      <td>NaN</td>\n",
       "      <td>2022-07-19 08:28:30+00:00</td>\n",
       "      <td>2022-07-19 08:28:30+00:00</td>\n",
       "    </tr>\n",
       "    <tr>\n",
       "      <th>55437</th>\n",
       "      <td>61186859</td>\n",
       "      <td>47891808</td>\n",
       "      <td>2</td>\n",
       "      <td>19476</td>\n",
       "      <td>voltage</td>\n",
       "      <td>Voltage (v)</td>\n",
       "      <td>110 volts (ac)</td>\n",
       "      <td>b0341366-806d-4947-95a6-b31f85c3d68b</td>\n",
       "      <td>0</td>\n",
       "      <td>thd</td>\n",
       "      <td>NaN</td>\n",
       "      <td>2022-07-19 08:28:30+00:00</td>\n",
       "      <td>2022-07-19 08:28:30+00:00</td>\n",
       "    </tr>\n",
       "    <tr>\n",
       "      <th>55678</th>\n",
       "      <td>61186860</td>\n",
       "      <td>47891808</td>\n",
       "      <td>2</td>\n",
       "      <td>19476</td>\n",
       "      <td>wattage</td>\n",
       "      <td>wattage</td>\n",
       "      <td>1.5 kw</td>\n",
       "      <td>1110</td>\n",
       "      <td>1</td>\n",
       "      <td>iksula</td>\n",
       "      <td>NaN</td>\n",
       "      <td>2022-07-19 08:28:30+00:00</td>\n",
       "      <td>2022-07-19 08:28:30+00:00</td>\n",
       "    </tr>\n",
       "    <tr>\n",
       "      <th>55928</th>\n",
       "      <td>61186856</td>\n",
       "      <td>47891808</td>\n",
       "      <td>2</td>\n",
       "      <td>19476</td>\n",
       "      <td>item weight</td>\n",
       "      <td>Product Weight (lb.)</td>\n",
       "      <td>66.1 pounds</td>\n",
       "      <td>e17c7a92-90d8-49b5-acbe-12bd21067613</td>\n",
       "      <td>0</td>\n",
       "      <td>thd</td>\n",
       "      <td>NaN</td>\n",
       "      <td>2022-07-19 08:28:30+00:00</td>\n",
       "      <td>2022-07-19 08:28:30+00:00</td>\n",
       "    </tr>\n",
       "    <tr>\n",
       "      <th>56079</th>\n",
       "      <td>61186843</td>\n",
       "      <td>47891808</td>\n",
       "      <td>2</td>\n",
       "      <td>19476</td>\n",
       "      <td>department</td>\n",
       "      <td>gender</td>\n",
       "      <td>tools</td>\n",
       "      <td>441</td>\n",
       "      <td>1</td>\n",
       "      <td>iksula</td>\n",
       "      <td>NaN</td>\n",
       "      <td>2022-07-19 08:28:30+00:00</td>\n",
       "      <td>2022-07-19 08:28:30+00:00</td>\n",
       "    </tr>\n",
       "    <tr>\n",
       "      <th>56127</th>\n",
       "      <td>61186858</td>\n",
       "      <td>47891808</td>\n",
       "      <td>2</td>\n",
       "      <td>19476</td>\n",
       "      <td>power source</td>\n",
       "      <td>Power Type</td>\n",
       "      <td>Corded Electric</td>\n",
       "      <td>7631806d-4db9-4bcc-9f0e-075d4a43b410</td>\n",
       "      <td>0</td>\n",
       "      <td>thd</td>\n",
       "      <td>NaN</td>\n",
       "      <td>2022-07-19 08:28:30+00:00</td>\n",
       "      <td>2022-07-19 08:28:30+00:00</td>\n",
       "    </tr>\n",
       "    <tr>\n",
       "      <th>56192</th>\n",
       "      <td>61186857</td>\n",
       "      <td>47891808</td>\n",
       "      <td>2</td>\n",
       "      <td>19476</td>\n",
       "      <td>product dimensions</td>\n",
       "      <td>random combined dimension</td>\n",
       "      <td>18.9 x 16.5 x 18.9 inches</td>\n",
       "      <td>2446</td>\n",
       "      <td>1</td>\n",
       "      <td>iksula</td>\n",
       "      <td>NaN</td>\n",
       "      <td>2022-07-19 08:28:30+00:00</td>\n",
       "      <td>2022-07-19 08:28:30+00:00</td>\n",
       "    </tr>\n",
       "    <tr>\n",
       "      <th>56271</th>\n",
       "      <td>61186867</td>\n",
       "      <td>47891808</td>\n",
       "      <td>2</td>\n",
       "      <td>19476</td>\n",
       "      <td>date first available</td>\n",
       "      <td>date</td>\n",
       "      <td>August 23, 2021</td>\n",
       "      <td>2333</td>\n",
       "      <td>1</td>\n",
       "      <td>iksula</td>\n",
       "      <td>NaN</td>\n",
       "      <td>2022-07-19 08:28:30+00:00</td>\n",
       "      <td>2022-07-19 08:28:30+00:00</td>\n",
       "    </tr>\n",
       "    <tr>\n",
       "      <th>56279</th>\n",
       "      <td>61186865</td>\n",
       "      <td>47891808</td>\n",
       "      <td>2</td>\n",
       "      <td>19476</td>\n",
       "      <td>item dimensions lxwxh</td>\n",
       "      <td>random combined dimension</td>\n",
       "      <td>18.9 x 16.5 x 18.9 inches</td>\n",
       "      <td>2446</td>\n",
       "      <td>1</td>\n",
       "      <td>iksula</td>\n",
       "      <td>NaN</td>\n",
       "      <td>2022-07-19 08:28:30+00:00</td>\n",
       "      <td>2022-07-19 08:28:30+00:00</td>\n",
       "    </tr>\n",
       "    <tr>\n",
       "      <th>56344</th>\n",
       "      <td>61186874</td>\n",
       "      <td>47891808</td>\n",
       "      <td>2</td>\n",
       "      <td>19476</td>\n",
       "      <td>specification table 2</td>\n",
       "      <td>specification</td>\n",
       "      <td>Brand:HPDAVV#||#Power Source:Corded Electric#|...</td>\n",
       "      <td>2538</td>\n",
       "      <td>1</td>\n",
       "      <td>iksula</td>\n",
       "      <td>NaN</td>\n",
       "      <td>2022-07-19 08:28:30+00:00</td>\n",
       "      <td>2022-07-19 08:28:30+00:00</td>\n",
       "    </tr>\n",
       "    <tr>\n",
       "      <th>56569</th>\n",
       "      <td>61186848</td>\n",
       "      <td>47891808</td>\n",
       "      <td>2</td>\n",
       "      <td>19476</td>\n",
       "      <td>specification table 1</td>\n",
       "      <td>specification</td>\n",
       "      <td>Manufacturer:HPDAVV#||#Item Weight:66.1 pounds...</td>\n",
       "      <td>2538</td>\n",
       "      <td>1</td>\n",
       "      <td>iksula</td>\n",
       "      <td>NaN</td>\n",
       "      <td>2022-07-19 08:28:30+00:00</td>\n",
       "      <td>2022-07-19 08:28:30+00:00</td>\n",
       "    </tr>\n",
       "    <tr>\n",
       "      <th>56913</th>\n",
       "      <td>61186863</td>\n",
       "      <td>47891808</td>\n",
       "      <td>2</td>\n",
       "      <td>19476</td>\n",
       "      <td>air flow capacity</td>\n",
       "      <td>air flow capacity</td>\n",
       "      <td>2.1 cubic feet per minute</td>\n",
       "      <td>1667</td>\n",
       "      <td>1</td>\n",
       "      <td>iksula</td>\n",
       "      <td>NaN</td>\n",
       "      <td>2022-07-19 08:28:30+00:00</td>\n",
       "      <td>2022-07-19 08:28:30+00:00</td>\n",
       "    </tr>\n",
       "    <tr>\n",
       "      <th>57788</th>\n",
       "      <td>61186871</td>\n",
       "      <td>47891808</td>\n",
       "      <td>2</td>\n",
       "      <td>19476</td>\n",
       "      <td>manufacturer name</td>\n",
       "      <td>manufacturer</td>\n",
       "      <td>HPDAVV</td>\n",
       "      <td>619</td>\n",
       "      <td>1</td>\n",
       "      <td>iksula</td>\n",
       "      <td>NaN</td>\n",
       "      <td>2022-07-19 08:28:30+00:00</td>\n",
       "      <td>2022-07-19 08:28:30+00:00</td>\n",
       "    </tr>\n",
       "    <tr>\n",
       "      <th>58553</th>\n",
       "      <td>61186845</td>\n",
       "      <td>47891808</td>\n",
       "      <td>2</td>\n",
       "      <td>19476</td>\n",
       "      <td>product code</td>\n",
       "      <td>code</td>\n",
       "      <td>B09DCK5H1M</td>\n",
       "      <td>2246</td>\n",
       "      <td>1</td>\n",
       "      <td>iksula</td>\n",
       "      <td>NaN</td>\n",
       "      <td>2022-07-19 08:28:30+00:00</td>\n",
       "      <td>2022-07-19 08:28:30+00:00</td>\n",
       "    </tr>\n",
       "    <tr>\n",
       "      <th>58651</th>\n",
       "      <td>61186876</td>\n",
       "      <td>47891808</td>\n",
       "      <td>2</td>\n",
       "      <td>19476</td>\n",
       "      <td>a+ content</td>\n",
       "      <td>description</td>\n",
       "      <td>No</td>\n",
       "      <td>1242</td>\n",
       "      <td>1</td>\n",
       "      <td>iksula</td>\n",
       "      <td>NaN</td>\n",
       "      <td>2022-07-19 08:28:30+00:00</td>\n",
       "      <td>2022-07-19 08:28:30+00:00</td>\n",
       "    </tr>\n",
       "    <tr>\n",
       "      <th>58665</th>\n",
       "      <td>61186872</td>\n",
       "      <td>47891808</td>\n",
       "      <td>2</td>\n",
       "      <td>19476</td>\n",
       "      <td>manufacturer warranty</td>\n",
       "      <td>Manufacturer Warranty</td>\n",
       "      <td>3</td>\n",
       "      <td>18a2f6bd-81b5-4c8e-9cff-15ca6824eb5a</td>\n",
       "      <td>0</td>\n",
       "      <td>thd</td>\n",
       "      <td>NaN</td>\n",
       "      <td>2022-07-19 08:28:30+00:00</td>\n",
       "      <td>2022-07-19 08:28:30+00:00</td>\n",
       "    </tr>\n",
       "    <tr>\n",
       "      <th>59053</th>\n",
       "      <td>61186862</td>\n",
       "      <td>47891808</td>\n",
       "      <td>2</td>\n",
       "      <td>19476</td>\n",
       "      <td>maximum power</td>\n",
       "      <td>power</td>\n",
       "      <td>2 horsepower</td>\n",
       "      <td>2373</td>\n",
       "      <td>1</td>\n",
       "      <td>iksula</td>\n",
       "      <td>NaN</td>\n",
       "      <td>2022-07-19 08:28:30+00:00</td>\n",
       "      <td>2022-07-19 08:28:30+00:00</td>\n",
       "    </tr>\n",
       "    <tr>\n",
       "      <th>59203</th>\n",
       "      <td>61186855</td>\n",
       "      <td>47891808</td>\n",
       "      <td>2</td>\n",
       "      <td>19476</td>\n",
       "      <td>manufacturer</td>\n",
       "      <td>manufacturer</td>\n",
       "      <td>HPDAVV</td>\n",
       "      <td>619</td>\n",
       "      <td>1</td>\n",
       "      <td>iksula</td>\n",
       "      <td>NaN</td>\n",
       "      <td>2022-07-19 08:28:30+00:00</td>\n",
       "      <td>2022-07-19 08:28:30+00:00</td>\n",
       "    </tr>\n",
       "    <tr>\n",
       "      <th>59407</th>\n",
       "      <td>61186879</td>\n",
       "      <td>47891808</td>\n",
       "      <td>2</td>\n",
       "      <td>19476</td>\n",
       "      <td>time</td>\n",
       "      <td>time taken</td>\n",
       "      <td>01-03 -2022 21:19:12</td>\n",
       "      <td>1570</td>\n",
       "      <td>1</td>\n",
       "      <td>iksula</td>\n",
       "      <td>NaN</td>\n",
       "      <td>2022-07-19 08:28:30+00:00</td>\n",
       "      <td>2022-07-19 08:28:30+00:00</td>\n",
       "    </tr>\n",
       "    <tr>\n",
       "      <th>59419</th>\n",
       "      <td>61186852</td>\n",
       "      <td>47891808</td>\n",
       "      <td>2</td>\n",
       "      <td>19476</td>\n",
       "      <td>warranty &amp; support</td>\n",
       "      <td>warranty</td>\n",
       "      <td>Product Warranty: For warranty information abo...</td>\n",
       "      <td>5072</td>\n",
       "      <td>1</td>\n",
       "      <td>iksula</td>\n",
       "      <td>NaN</td>\n",
       "      <td>2022-07-19 08:28:30+00:00</td>\n",
       "      <td>2022-07-19 08:28:30+00:00</td>\n",
       "    </tr>\n",
       "    <tr>\n",
       "      <th>59544</th>\n",
       "      <td>61186850</td>\n",
       "      <td>47891808</td>\n",
       "      <td>2</td>\n",
       "      <td>19476</td>\n",
       "      <td>specification table 3</td>\n",
       "      <td>specification</td>\n",
       "      <td>ASIN:B09DCK5H1M#||#Date First Available:August...</td>\n",
       "      <td>2538</td>\n",
       "      <td>1</td>\n",
       "      <td>iksula</td>\n",
       "      <td>NaN</td>\n",
       "      <td>2022-07-19 08:28:30+00:00</td>\n",
       "      <td>2022-07-19 08:28:30+00:00</td>\n",
       "    </tr>\n",
       "  </tbody>\n",
       "</table>\n",
       "</div>"
      ],
      "text/plain": [
       "             id  product_id  website_id  normalized_leaf_category_id  \\\n",
       "54720  61186889    47891808           2                        19476   \n",
       "55027  61186869    47891808           2                        19476   \n",
       "55113  61186886    47891808           2                        19476   \n",
       "55343  61186878    47891808           2                        19476   \n",
       "55364  61186891    47891808           2                        19476   \n",
       "55437  61186859    47891808           2                        19476   \n",
       "55678  61186860    47891808           2                        19476   \n",
       "55928  61186856    47891808           2                        19476   \n",
       "56079  61186843    47891808           2                        19476   \n",
       "56127  61186858    47891808           2                        19476   \n",
       "56192  61186857    47891808           2                        19476   \n",
       "56271  61186867    47891808           2                        19476   \n",
       "56279  61186865    47891808           2                        19476   \n",
       "56344  61186874    47891808           2                        19476   \n",
       "56569  61186848    47891808           2                        19476   \n",
       "56913  61186863    47891808           2                        19476   \n",
       "57788  61186871    47891808           2                        19476   \n",
       "58553  61186845    47891808           2                        19476   \n",
       "58651  61186876    47891808           2                        19476   \n",
       "58665  61186872    47891808           2                        19476   \n",
       "59053  61186862    47891808           2                        19476   \n",
       "59203  61186855    47891808           2                        19476   \n",
       "59407  61186879    47891808           2                        19476   \n",
       "59419  61186852    47891808           2                        19476   \n",
       "59544  61186850    47891808           2                        19476   \n",
       "\n",
       "              processed_name             attribute_name  \\\n",
       "54720                  brand                      brand   \n",
       "55027           category url                        url   \n",
       "55113             horsepower            Horsepower (hp)   \n",
       "55343          shipping_cost            shipping policy   \n",
       "55364                   asin                       asin   \n",
       "55437                voltage                Voltage (v)   \n",
       "55678                wattage                    wattage   \n",
       "55928            item weight       Product Weight (lb.)   \n",
       "56079             department                     gender   \n",
       "56127           power source                 Power Type   \n",
       "56192     product dimensions  random combined dimension   \n",
       "56271   date first available                       date   \n",
       "56279  item dimensions lxwxh  random combined dimension   \n",
       "56344  specification table 2              specification   \n",
       "56569  specification table 1              specification   \n",
       "56913      air flow capacity          air flow capacity   \n",
       "57788      manufacturer name               manufacturer   \n",
       "58553           product code                       code   \n",
       "58651             a+ content                description   \n",
       "58665  manufacturer warranty      Manufacturer Warranty   \n",
       "59053          maximum power                      power   \n",
       "59203           manufacturer               manufacturer   \n",
       "59407                   time                 time taken   \n",
       "59419     warranty & support                   warranty   \n",
       "59544  specification table 3              specification   \n",
       "\n",
       "                                         attribute_value  \\\n",
       "54720                                             HPDAVV   \n",
       "55027           https://www.amazon.com/b?node=9022396011   \n",
       "55113                                             2.2 hp   \n",
       "55343                                            Details   \n",
       "55364                                         B09DCK5H1M   \n",
       "55437                                     110 volts (ac)   \n",
       "55678                                             1.5 kw   \n",
       "55928                                        66.1 pounds   \n",
       "56079                                              tools   \n",
       "56127                                    Corded Electric   \n",
       "56192                          18.9 x 16.5 x 18.9 inches   \n",
       "56271                                    August 23, 2021   \n",
       "56279                          18.9 x 16.5 x 18.9 inches   \n",
       "56344  Brand:HPDAVV#||#Power Source:Corded Electric#|...   \n",
       "56569  Manufacturer:HPDAVV#||#Item Weight:66.1 pounds...   \n",
       "56913                          2.1 cubic feet per minute   \n",
       "57788                                             HPDAVV   \n",
       "58553                                         B09DCK5H1M   \n",
       "58651                                                 No   \n",
       "58665                                                  3   \n",
       "59053                                       2 horsepower   \n",
       "59203                                             HPDAVV   \n",
       "59407                               01-03 -2022 21:19:12   \n",
       "59419  Product Warranty: For warranty information abo...   \n",
       "59544  ASIN:B09DCK5H1M#||#Date First Available:August...   \n",
       "\n",
       "                                  attr_guid  extra_attr extra_attr_type  \\\n",
       "54720                                    84           1          iksula   \n",
       "55027                                  1580           1          iksula   \n",
       "55113  29f17705-76e2-4aeb-9045-1309f537fc1b           0             thd   \n",
       "55343                                  1532           1          iksula   \n",
       "55364                                  1162           1          iksula   \n",
       "55437  b0341366-806d-4947-95a6-b31f85c3d68b           0             thd   \n",
       "55678                                  1110           1          iksula   \n",
       "55928  e17c7a92-90d8-49b5-acbe-12bd21067613           0             thd   \n",
       "56079                                   441           1          iksula   \n",
       "56127  7631806d-4db9-4bcc-9f0e-075d4a43b410           0             thd   \n",
       "56192                                  2446           1          iksula   \n",
       "56271                                  2333           1          iksula   \n",
       "56279                                  2446           1          iksula   \n",
       "56344                                  2538           1          iksula   \n",
       "56569                                  2538           1          iksula   \n",
       "56913                                  1667           1          iksula   \n",
       "57788                                   619           1          iksula   \n",
       "58553                                  2246           1          iksula   \n",
       "58651                                  1242           1          iksula   \n",
       "58665  18a2f6bd-81b5-4c8e-9cff-15ca6824eb5a           0             thd   \n",
       "59053                                  2373           1          iksula   \n",
       "59203                                   619           1          iksula   \n",
       "59407                                  1570           1          iksula   \n",
       "59419                                  5072           1          iksula   \n",
       "59544                                  2538           1          iksula   \n",
       "\n",
       "      converted_attribute_values                 created_at  \\\n",
       "54720                        NaN  2022-07-19 08:28:30+00:00   \n",
       "55027                        NaN  2022-07-19 08:28:30+00:00   \n",
       "55113                        NaN  2022-07-19 08:28:30+00:00   \n",
       "55343                        NaN  2022-07-19 08:28:30+00:00   \n",
       "55364                        NaN  2022-07-19 08:28:30+00:00   \n",
       "55437                        NaN  2022-07-19 08:28:30+00:00   \n",
       "55678                        NaN  2022-07-19 08:28:30+00:00   \n",
       "55928                        NaN  2022-07-19 08:28:30+00:00   \n",
       "56079                        NaN  2022-07-19 08:28:30+00:00   \n",
       "56127                        NaN  2022-07-19 08:28:30+00:00   \n",
       "56192                        NaN  2022-07-19 08:28:30+00:00   \n",
       "56271                        NaN  2022-07-19 08:28:30+00:00   \n",
       "56279                        NaN  2022-07-19 08:28:30+00:00   \n",
       "56344                        NaN  2022-07-19 08:28:30+00:00   \n",
       "56569                        NaN  2022-07-19 08:28:30+00:00   \n",
       "56913                        NaN  2022-07-19 08:28:30+00:00   \n",
       "57788                        NaN  2022-07-19 08:28:30+00:00   \n",
       "58553                        NaN  2022-07-19 08:28:30+00:00   \n",
       "58651                        NaN  2022-07-19 08:28:30+00:00   \n",
       "58665                        NaN  2022-07-19 08:28:30+00:00   \n",
       "59053                        NaN  2022-07-19 08:28:30+00:00   \n",
       "59203                        NaN  2022-07-19 08:28:30+00:00   \n",
       "59407                        NaN  2022-07-19 08:28:30+00:00   \n",
       "59419                        NaN  2022-07-19 08:28:30+00:00   \n",
       "59544                        NaN  2022-07-19 08:28:30+00:00   \n",
       "\n",
       "                      updated_at  \n",
       "54720  2022-07-19 08:28:30+00:00  \n",
       "55027  2022-07-19 08:28:30+00:00  \n",
       "55113  2022-07-19 08:28:30+00:00  \n",
       "55343  2022-07-19 08:28:30+00:00  \n",
       "55364  2022-07-19 08:28:30+00:00  \n",
       "55437  2022-07-19 08:28:30+00:00  \n",
       "55678  2022-07-19 08:28:30+00:00  \n",
       "55928  2022-07-19 08:28:30+00:00  \n",
       "56079  2022-07-19 08:28:30+00:00  \n",
       "56127  2022-07-19 08:28:30+00:00  \n",
       "56192  2022-07-19 08:28:30+00:00  \n",
       "56271  2022-07-19 08:28:30+00:00  \n",
       "56279  2022-07-19 08:28:30+00:00  \n",
       "56344  2022-07-19 08:28:30+00:00  \n",
       "56569  2022-07-19 08:28:30+00:00  \n",
       "56913  2022-07-19 08:28:30+00:00  \n",
       "57788  2022-07-19 08:28:30+00:00  \n",
       "58553  2022-07-19 08:28:30+00:00  \n",
       "58651  2022-07-19 08:28:30+00:00  \n",
       "58665  2022-07-19 08:28:30+00:00  \n",
       "59053  2022-07-19 08:28:30+00:00  \n",
       "59203  2022-07-19 08:28:30+00:00  \n",
       "59407  2022-07-19 08:28:30+00:00  \n",
       "59419  2022-07-19 08:28:30+00:00  \n",
       "59544  2022-07-19 08:28:30+00:00  "
      ]
     },
     "execution_count": 5,
     "metadata": {},
     "output_type": "execute_result"
    }
   ],
   "source": [
    "Da[Da[\"product_id\"]==47891808]"
   ]
  },
  {
   "cell_type": "code",
   "execution_count": 6,
   "id": "a682e61d",
   "metadata": {},
   "outputs": [
    {
     "ename": "NameError",
     "evalue": "name 'D' is not defined",
     "output_type": "error",
     "traceback": [
      "\u001b[1;31m---------------------------------------------------------------------------\u001b[0m",
      "\u001b[1;31mNameError\u001b[0m                                 Traceback (most recent call last)",
      "\u001b[1;32m~\\AppData\\Local\\Temp/ipykernel_7936/625922856.py\u001b[0m in \u001b[0;36m<module>\u001b[1;34m\u001b[0m\n\u001b[1;32m----> 1\u001b[1;33m \u001b[0mD\u001b[0m\u001b[1;33m[\u001b[0m\u001b[1;34m\"id\"\u001b[0m\u001b[1;33m]\u001b[0m\u001b[1;33m\u001b[0m\u001b[1;33m\u001b[0m\u001b[0m\n\u001b[0m",
      "\u001b[1;31mNameError\u001b[0m: name 'D' is not defined"
     ]
    }
   ],
   "source": [
    "D[\"id\"]"
   ]
  },
  {
   "cell_type": "code",
   "execution_count": 30,
   "id": "8f92ed27",
   "metadata": {},
   "outputs": [
    {
     "data": {
      "text/plain": [
       "[[8, -5], [6, -1], [1, 2], [-3, 4], [0, 5]]"
      ]
     },
     "execution_count": 30,
     "metadata": {},
     "output_type": "execute_result"
    }
   ],
   "source": [
    "a=[[1,2],[0,5],[8,-5],[6,-1],[-3,4]]\n",
    "a.sort(key=lambda arr:arr[1])\n",
    "a"
   ]
  },
  {
   "cell_type": "code",
   "execution_count": 23,
   "id": "3f69cc52",
   "metadata": {},
   "outputs": [
    {
     "ename": "TypeError",
     "evalue": "'<' not supported between instances of 'int' and 'list'",
     "output_type": "error",
     "traceback": [
      "\u001b[1;31m---------------------------------------------------------------------------\u001b[0m",
      "\u001b[1;31mTypeError\u001b[0m                                 Traceback (most recent call last)",
      "\u001b[1;32m~\\AppData\\Local\\Temp/ipykernel_14372/2277493993.py\u001b[0m in \u001b[0;36m<module>\u001b[1;34m\u001b[0m\n\u001b[1;32m----> 1\u001b[1;33m \u001b[0mans\u001b[0m\u001b[1;33m(\u001b[0m\u001b[0ma\u001b[0m\u001b[1;33m)\u001b[0m\u001b[1;33m\u001b[0m\u001b[1;33m\u001b[0m\u001b[0m\n\u001b[0m",
      "\u001b[1;32m~\\AppData\\Local\\Temp/ipykernel_14372/1935596374.py\u001b[0m in \u001b[0;36m<lambda>\u001b[1;34m(arr)\u001b[0m\n\u001b[0;32m      1\u001b[0m \u001b[0ma\u001b[0m\u001b[1;33m=\u001b[0m\u001b[1;33m[\u001b[0m\u001b[1;33m[\u001b[0m\u001b[1;36m1\u001b[0m\u001b[1;33m,\u001b[0m\u001b[1;36m2\u001b[0m\u001b[1;33m]\u001b[0m\u001b[1;33m,\u001b[0m\u001b[1;33m[\u001b[0m\u001b[1;36m0\u001b[0m\u001b[1;33m,\u001b[0m\u001b[1;36m5\u001b[0m\u001b[1;33m]\u001b[0m\u001b[1;33m,\u001b[0m\u001b[1;33m[\u001b[0m\u001b[1;36m8\u001b[0m\u001b[1;33m,\u001b[0m\u001b[1;33m-\u001b[0m\u001b[1;36m5\u001b[0m\u001b[1;33m]\u001b[0m\u001b[1;33m,\u001b[0m\u001b[1;33m[\u001b[0m\u001b[1;36m6\u001b[0m\u001b[1;33m,\u001b[0m\u001b[1;33m-\u001b[0m\u001b[1;36m1\u001b[0m\u001b[1;33m]\u001b[0m\u001b[1;33m,\u001b[0m\u001b[1;33m-\u001b[0m\u001b[1;36m3\u001b[0m\u001b[1;33m,\u001b[0m\u001b[1;36m4\u001b[0m\u001b[1;33m]\u001b[0m\u001b[1;33m\u001b[0m\u001b[1;33m\u001b[0m\u001b[0m\n\u001b[1;32m----> 2\u001b[1;33m \u001b[0mans\u001b[0m\u001b[1;33m=\u001b[0m\u001b[1;32mlambda\u001b[0m \u001b[0marr\u001b[0m\u001b[1;33m:\u001b[0m\u001b[0marr\u001b[0m\u001b[1;33m.\u001b[0m\u001b[0msort\u001b[0m\u001b[1;33m(\u001b[0m\u001b[1;33m)\u001b[0m\u001b[1;33m\u001b[0m\u001b[1;33m\u001b[0m\u001b[0m\n\u001b[0m",
      "\u001b[1;31mTypeError\u001b[0m: '<' not supported between instances of 'int' and 'list'"
     ]
    }
   ],
   "source": []
  },
  {
   "cell_type": "code",
   "execution_count": 17,
   "id": "cbe298ed",
   "metadata": {},
   "outputs": [
    {
     "data": {
      "text/plain": [
       "81"
      ]
     },
     "execution_count": 17,
     "metadata": {},
     "output_type": "execute_result"
    }
   ],
   "source": [
    "x=lambda x:x**2\n",
    "x(9)"
   ]
  },
  {
   "cell_type": "code",
   "execution_count": 69,
   "id": "b6608390",
   "metadata": {},
   "outputs": [
    {
     "data": {
      "text/plain": [
       "[[0, (1, 8)], [1, (2, 6)], [2, (3, 5)], [3, (4, 7)]]"
      ]
     },
     "execution_count": 69,
     "metadata": {},
     "output_type": "execute_result"
    }
   ],
   "source": [
    "a=[1,2,3,4]\n",
    "b=[8,6,5,7]\n",
    "c=[[A,B] for A,B in enumerate(zip(a,b))]\n",
    "c"
   ]
  },
  {
   "cell_type": "code",
   "execution_count": 101,
   "id": "94e683fa",
   "metadata": {},
   "outputs": [
    {
     "data": {
      "text/plain": [
       "[7, 5, 6, 8]"
      ]
     },
     "execution_count": 101,
     "metadata": {},
     "output_type": "execute_result"
    }
   ],
   "source": [
    "b[::-1]"
   ]
  },
  {
   "cell_type": "code",
   "execution_count": 45,
   "id": "929e4638",
   "metadata": {},
   "outputs": [
    {
     "data": {
      "text/plain": [
       "[[2, (3, 5)], [1, (2, 6)], [3, (4, 7)], [0, (1, 8)]]"
      ]
     },
     "execution_count": 45,
     "metadata": {},
     "output_type": "execute_result"
    }
   ],
   "source": [
    "c.sort(key=lambda x:x[1][1])\n",
    "c"
   ]
  },
  {
   "cell_type": "code",
   "execution_count": 49,
   "id": "ab2544e3",
   "metadata": {},
   "outputs": [
    {
     "data": {
      "text/plain": [
       "5"
      ]
     },
     "execution_count": 49,
     "metadata": {},
     "output_type": "execute_result"
    }
   ],
   "source": [
    "c[0][1][1]"
   ]
  },
  {
   "cell_type": "code",
   "execution_count": 41,
   "id": "b1a67af4",
   "metadata": {},
   "outputs": [
    {
     "data": {
      "text/plain": [
       "2"
      ]
     },
     "execution_count": 41,
     "metadata": {},
     "output_type": "execute_result"
    }
   ],
   "source": [
    "c[1][1][0]"
   ]
  },
  {
   "cell_type": "code",
   "execution_count": 35,
   "id": "eeb7ee7c",
   "metadata": {},
   "outputs": [
    {
     "name": "stdout",
     "output_type": "stream",
     "text": [
      "1\n",
      "2\n",
      "3\n",
      "4\n"
     ]
    }
   ],
   "source": [
    "for i,A in enumerate(a):\n",
    "    print(A)"
   ]
  },
  {
   "cell_type": "code",
   "execution_count": 98,
   "id": "2b6fe83e",
   "metadata": {},
   "outputs": [],
   "source": [
    "N=10\n",
    "S=[12, 6, 16,12, 6, 9 ,16, 6, 17, 5]\n",
    "F=[17 ,13 ,16 ,18 ,17 ,10 ,18 ,12 ,18, 11] \n",
    "def maxMeetings(N,S,F):\n",
    "    # code here\n",
    "    meet=[[i+1,S[i],F[i]] for i in range(N)]\n",
    "    print(meet)\n",
    "    meet.sort(key=lambda x:x[2])\n",
    "    meet.sort(key=lambda x:x[2]-x[1])\n",
    "    print(meet)\n",
    "    ans=[meet[0][0]]\n",
    "    start=meet[0][1]\n",
    "    end=meet[0][2]\n",
    "    for i in range(1,N):\n",
    "        if meet[i][1]>end:\n",
    "            ans.append(meet[i][0])\n",
    "            start=meet[i][1]\n",
    "            end=meet[i][2]\n",
    "    return ans"
   ]
  },
  {
   "cell_type": "code",
   "execution_count": 99,
   "id": "9a36ab1c",
   "metadata": {},
   "outputs": [
    {
     "name": "stdout",
     "output_type": "stream",
     "text": [
      "[[1, 12, 17], [2, 6, 13], [3, 16, 16], [4, 12, 18], [5, 6, 17], [6, 9, 10], [7, 16, 18], [8, 6, 12], [9, 17, 18], [10, 5, 11]]\n",
      "[[3, 16, 16], [6, 9, 10], [9, 17, 18], [7, 16, 18], [1, 12, 17], [10, 5, 11], [8, 6, 12], [4, 12, 18], [2, 6, 13], [5, 6, 17]]\n"
     ]
    },
    {
     "data": {
      "text/plain": [
       "[3, 9]"
      ]
     },
     "execution_count": 99,
     "metadata": {},
     "output_type": "execute_result"
    }
   ],
   "source": [
    "maxMeetings(N,S,F)"
   ]
  },
  {
   "cell_type": "code",
   "execution_count": null,
   "id": "29096bbb",
   "metadata": {},
   "outputs": [],
   "source": [
    "def candyStore(candies,N,K):\n",
    "    def help(arr):\n",
    "        ans=0\n",
    "        print(ans)\n",
    "        while arr:\n",
    "            ans+=arr[0]\n",
    "            if len(arr)>K:\n",
    "                arr=arr[1:len(arr)-K]\n",
    "                print(arr)\n",
    "        return ans\n",
    "\n",
    "\n",
    "    # code here\n",
    "    candies.sort()\n",
    "    min_cost=help(candies)\n",
    "    max_cost=help(candies[::-1])\n",
    "    return min_cost,max_cost"
   ]
  },
  {
   "cell_type": "code",
   "execution_count": null,
   "id": "682ec734",
   "metadata": {},
   "outputs": [],
   "source": [
    "N = 4\n",
    "K = 2\n",
    "candies = [3,2,1,4]\n",
    "candyStore(candies,N,K)"
   ]
  },
  {
   "cell_type": "code",
   "execution_count": 114,
   "id": "4ec4ed1c",
   "metadata": {},
   "outputs": [
    {
     "name": "stdout",
     "output_type": "stream",
     "text": [
      "0\n",
      "[2]\n"
     ]
    },
    {
     "ename": "KeyboardInterrupt",
     "evalue": "",
     "output_type": "error",
     "traceback": [
      "\u001b[1;31m---------------------------------------------------------------------------\u001b[0m",
      "\u001b[1;31mKeyboardInterrupt\u001b[0m                         Traceback (most recent call last)",
      "\u001b[1;32m~\\AppData\\Local\\Temp/ipykernel_14372/3276178970.py\u001b[0m in \u001b[0;36m<module>\u001b[1;34m\u001b[0m\n\u001b[0;32m      9\u001b[0m     \u001b[1;32mreturn\u001b[0m \u001b[0mans\u001b[0m\u001b[1;33m\u001b[0m\u001b[1;33m\u001b[0m\u001b[0m\n\u001b[0;32m     10\u001b[0m \u001b[1;33m\u001b[0m\u001b[0m\n\u001b[1;32m---> 11\u001b[1;33m \u001b[0mhelp\u001b[0m\u001b[1;33m(\u001b[0m\u001b[0mcandies\u001b[0m\u001b[1;33m,\u001b[0m\u001b[1;36m2\u001b[0m\u001b[1;33m)\u001b[0m\u001b[1;33m\u001b[0m\u001b[1;33m\u001b[0m\u001b[0m\n\u001b[0m",
      "\u001b[1;32m~\\AppData\\Local\\Temp/ipykernel_14372/3276178970.py\u001b[0m in \u001b[0;36mhelp\u001b[1;34m(arr, K)\u001b[0m\n\u001b[0;32m      3\u001b[0m     \u001b[0mprint\u001b[0m\u001b[1;33m(\u001b[0m\u001b[0mans\u001b[0m\u001b[1;33m)\u001b[0m\u001b[1;33m\u001b[0m\u001b[1;33m\u001b[0m\u001b[0m\n\u001b[0;32m      4\u001b[0m     \u001b[1;32mwhile\u001b[0m \u001b[0marr\u001b[0m\u001b[1;33m:\u001b[0m\u001b[1;33m\u001b[0m\u001b[1;33m\u001b[0m\u001b[0m\n\u001b[1;32m----> 5\u001b[1;33m         \u001b[0mans\u001b[0m\u001b[1;33m+=\u001b[0m\u001b[0marr\u001b[0m\u001b[1;33m[\u001b[0m\u001b[1;36m0\u001b[0m\u001b[1;33m]\u001b[0m\u001b[1;33m\u001b[0m\u001b[1;33m\u001b[0m\u001b[0m\n\u001b[0m\u001b[0;32m      6\u001b[0m         \u001b[1;32mif\u001b[0m \u001b[0mlen\u001b[0m\u001b[1;33m(\u001b[0m\u001b[0marr\u001b[0m\u001b[1;33m)\u001b[0m\u001b[1;33m>\u001b[0m\u001b[0mK\u001b[0m\u001b[1;33m:\u001b[0m\u001b[1;33m\u001b[0m\u001b[1;33m\u001b[0m\u001b[0m\n\u001b[0;32m      7\u001b[0m             \u001b[0marr\u001b[0m\u001b[1;33m=\u001b[0m\u001b[0marr\u001b[0m\u001b[1;33m[\u001b[0m\u001b[1;36m1\u001b[0m\u001b[1;33m:\u001b[0m\u001b[0mlen\u001b[0m\u001b[1;33m(\u001b[0m\u001b[0marr\u001b[0m\u001b[1;33m)\u001b[0m\u001b[1;33m-\u001b[0m\u001b[0mK\u001b[0m\u001b[1;33m]\u001b[0m\u001b[1;33m\u001b[0m\u001b[1;33m\u001b[0m\u001b[0m\n",
      "\u001b[1;31mKeyboardInterrupt\u001b[0m: "
     ]
    }
   ],
   "source": [
    "def help(arr,K):\n",
    "    ans=0\n",
    "    print(ans)\n",
    "    while arr:\n",
    "        ans+=arr[0]\n",
    "        if len(arr)>K:\n",
    "            arr=arr[1:len(arr)-K]\n",
    "            print(arr)\n",
    "    return ans\n",
    "\n",
    "help(candies,2)"
   ]
  },
  {
   "cell_type": "code",
   "execution_count": 137,
   "id": "904b3396",
   "metadata": {},
   "outputs": [],
   "source": [
    "import heapq\n",
    "A=[3,2,1,4]\n",
    "heapq.heapify(A)"
   ]
  },
  {
   "cell_type": "code",
   "execution_count": 138,
   "id": "0a9a872d",
   "metadata": {},
   "outputs": [
    {
     "data": {
      "text/plain": [
       "[1, 2, 3, 4]"
      ]
     },
     "execution_count": 138,
     "metadata": {},
     "output_type": "execute_result"
    }
   ],
   "source": [
    "A"
   ]
  },
  {
   "cell_type": "code",
   "execution_count": 139,
   "id": "4b3e76ce",
   "metadata": {},
   "outputs": [
    {
     "data": {
      "text/plain": [
       "1"
      ]
     },
     "execution_count": 139,
     "metadata": {},
     "output_type": "execute_result"
    }
   ],
   "source": [
    "heapq.heappop(A)"
   ]
  },
  {
   "cell_type": "code",
   "execution_count": 140,
   "id": "4a191a02",
   "metadata": {},
   "outputs": [
    {
     "data": {
      "text/plain": [
       "2"
      ]
     },
     "execution_count": 140,
     "metadata": {},
     "output_type": "execute_result"
    }
   ],
   "source": [
    "heapq.heappop(A)"
   ]
  },
  {
   "cell_type": "code",
   "execution_count": 141,
   "id": "335d3ae6",
   "metadata": {},
   "outputs": [
    {
     "data": {
      "text/plain": [
       "[3, 4]"
      ]
     },
     "execution_count": 141,
     "metadata": {},
     "output_type": "execute_result"
    }
   ],
   "source": [
    "A"
   ]
  },
  {
   "cell_type": "code",
   "execution_count": 142,
   "id": "b60299c5",
   "metadata": {},
   "outputs": [
    {
     "data": {
      "text/plain": [
       "[3, 4, 15]"
      ]
     },
     "execution_count": 142,
     "metadata": {},
     "output_type": "execute_result"
    }
   ],
   "source": [
    "heapq.heappush(A,15)\n",
    "A"
   ]
  },
  {
   "cell_type": "code",
   "execution_count": 143,
   "id": "7fc8459d",
   "metadata": {},
   "outputs": [
    {
     "data": {
      "text/plain": [
       "[3, 4, 15]"
      ]
     },
     "execution_count": 143,
     "metadata": {},
     "output_type": "execute_result"
    }
   ],
   "source": [
    "A"
   ]
  },
  {
   "cell_type": "code",
   "execution_count": 144,
   "id": "3449eef8",
   "metadata": {},
   "outputs": [
    {
     "ename": "AttributeError",
     "evalue": "'list' object has no attribute 'top'",
     "output_type": "error",
     "traceback": [
      "\u001b[1;31m---------------------------------------------------------------------------\u001b[0m",
      "\u001b[1;31mAttributeError\u001b[0m                            Traceback (most recent call last)",
      "\u001b[1;32m~\\AppData\\Local\\Temp/ipykernel_14372/1937913048.py\u001b[0m in \u001b[0;36m<module>\u001b[1;34m\u001b[0m\n\u001b[1;32m----> 1\u001b[1;33m \u001b[0mA\u001b[0m\u001b[1;33m.\u001b[0m\u001b[0mtop\u001b[0m\u001b[1;33m(\u001b[0m\u001b[1;33m)\u001b[0m\u001b[1;33m\u001b[0m\u001b[1;33m\u001b[0m\u001b[0m\n\u001b[0m",
      "\u001b[1;31mAttributeError\u001b[0m: 'list' object has no attribute 'top'"
     ]
    }
   ],
   "source": [
    "A.top()"
   ]
  },
  {
   "cell_type": "code",
   "execution_count": 145,
   "id": "5d61af22",
   "metadata": {},
   "outputs": [],
   "source": [
    "import heapq as h"
   ]
  },
  {
   "cell_type": "code",
   "execution_count": 150,
   "id": "0d8dacf4",
   "metadata": {},
   "outputs": [
    {
     "ename": "TypeError",
     "evalue": "'module' object is not callable",
     "output_type": "error",
     "traceback": [
      "\u001b[1;31m---------------------------------------------------------------------------\u001b[0m",
      "\u001b[1;31mTypeError\u001b[0m                                 Traceback (most recent call last)",
      "\u001b[1;32m~\\AppData\\Local\\Temp/ipykernel_14372/1127751606.py\u001b[0m in \u001b[0;36m<module>\u001b[1;34m\u001b[0m\n\u001b[0;32m      1\u001b[0m \u001b[0ma\u001b[0m\u001b[1;33m=\u001b[0m\u001b[1;33m[\u001b[0m\u001b[1;33m]\u001b[0m\u001b[1;33m\u001b[0m\u001b[1;33m\u001b[0m\u001b[0m\n\u001b[1;32m----> 2\u001b[1;33m \u001b[0ma\u001b[0m\u001b[1;33m=\u001b[0m\u001b[0mh\u001b[0m\u001b[1;33m(\u001b[0m\u001b[0ma\u001b[0m\u001b[1;33m)\u001b[0m\u001b[1;33m\u001b[0m\u001b[1;33m\u001b[0m\u001b[0m\n\u001b[0m\u001b[0;32m      3\u001b[0m \u001b[0ma\u001b[0m\u001b[1;33m.\u001b[0m\u001b[0mheappush\u001b[0m\u001b[1;33m(\u001b[0m\u001b[1;36m10\u001b[0m\u001b[1;33m)\u001b[0m\u001b[1;33m\u001b[0m\u001b[1;33m\u001b[0m\u001b[0m\n",
      "\u001b[1;31mTypeError\u001b[0m: 'module' object is not callable"
     ]
    }
   ],
   "source": [
    "a=[]\n",
    "a=h(a)\n",
    "a.heappush(10)\n"
   ]
  },
  {
   "cell_type": "code",
   "execution_count": 32,
   "id": "648f4176",
   "metadata": {},
   "outputs": [],
   "source": [
    "x=[1,2,34,5,2,1,8,9,4,5,6,0,3,1]\n",
    "# x=pd.DataFrame(x)\n",
    "def high(w):\n",
    "    if w>7:\n",
    "        return \"high\"\n",
    "    return \"low\"\n",
    "x=map(high,x)"
   ]
  },
  {
   "cell_type": "code",
   "execution_count": 34,
   "id": "26e981f6",
   "metadata": {},
   "outputs": [
    {
     "data": {
      "text/plain": [
       "['low',\n",
       " 'low',\n",
       " 'high',\n",
       " 'low',\n",
       " 'low',\n",
       " 'low',\n",
       " 'high',\n",
       " 'high',\n",
       " 'low',\n",
       " 'low',\n",
       " 'low',\n",
       " 'low',\n",
       " 'low',\n",
       " 'low']"
      ]
     },
     "execution_count": 34,
     "metadata": {},
     "output_type": "execute_result"
    }
   ],
   "source": [
    "list(x)"
   ]
  },
  {
   "cell_type": "code",
   "execution_count": null,
   "id": "1fe1a49f",
   "metadata": {},
   "outputs": [],
   "source": []
  }
 ],
 "metadata": {
  "kernelspec": {
   "display_name": "Python 3 (ipykernel)",
   "language": "python",
   "name": "python3"
  },
  "language_info": {
   "codemirror_mode": {
    "name": "ipython",
    "version": 3
   },
   "file_extension": ".py",
   "mimetype": "text/x-python",
   "name": "python",
   "nbconvert_exporter": "python",
   "pygments_lexer": "ipython3",
   "version": "3.9.7"
  }
 },
 "nbformat": 4,
 "nbformat_minor": 5
}
